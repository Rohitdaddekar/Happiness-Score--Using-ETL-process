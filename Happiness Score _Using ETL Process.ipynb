{
 "cells": [
  {
   "cell_type": "code",
   "execution_count": null,
   "id": "1a555239",
   "metadata": {},
   "outputs": [],
   "source": [
    "# BY using ETL Process we apply the Machine Learning Algorithm on our dataset.Now first Understand What is ETL Process?\n",
    "# ETL is a process that allows you to extract data from various sources,\n",
    "# transform it according to your requirements and finally load it into a database or data format of your choice.\n",
    "# Now in this project I will show you an example of ETL process. Project is Completely based on Happiness Score of Different Countries. \n",
    "# As programming language I use Python. I scrape the happiness values from Wikipedia, \n",
    "# the population data for each country from Rapid API. "
   ]
  },
  {
   "cell_type": "markdown",
   "id": "0590b596",
   "metadata": {},
   "source": [
    "# Importing the modules"
   ]
  },
  {
   "cell_type": "code",
   "execution_count": 262,
   "id": "9502ff17",
   "metadata": {},
   "outputs": [],
   "source": [
    "import requests\n",
    "from bs4 import BeautifulSoup\n",
    "import pandas as pd\n",
    "import seaborn as sns\n",
    "import matplotlib.pyplot as plt"
   ]
  },
  {
   "cell_type": "code",
   "execution_count": 263,
   "id": "518bac84",
   "metadata": {},
   "outputs": [],
   "source": [
    "data = requests.get(\"https://en.wikipedia.org/wiki/World_Happiness_Report\")\n",
    "#print(data.status_code)"
   ]
  },
  {
   "cell_type": "code",
   "execution_count": 264,
   "id": "33a9c89c",
   "metadata": {},
   "outputs": [],
   "source": [
    "soup = BeautifulSoup(data.content,'html.parser')"
   ]
  },
  {
   "cell_type": "code",
   "execution_count": 265,
   "id": "9a3f87e5",
   "metadata": {},
   "outputs": [],
   "source": [
    "tables = soup.find_all('table',{'class':\"wikitable\"})\n",
    "table = tables[0]\n"
   ]
  },
  {
   "cell_type": "code",
   "execution_count": 266,
   "id": "7cce5e13",
   "metadata": {},
   "outputs": [],
   "source": [
    "data = pd.read_html(str(table))\n",
    "df_happiness = pd.DataFrame(data[0]) "
   ]
  },
  {
   "cell_type": "code",
   "execution_count": 267,
   "id": "e06695dc",
   "metadata": {},
   "outputs": [
    {
     "data": {
      "text/html": [
       "<div>\n",
       "<style scoped>\n",
       "    .dataframe tbody tr th:only-of-type {\n",
       "        vertical-align: middle;\n",
       "    }\n",
       "\n",
       "    .dataframe tbody tr th {\n",
       "        vertical-align: top;\n",
       "    }\n",
       "\n",
       "    .dataframe thead th {\n",
       "        text-align: right;\n",
       "    }\n",
       "</style>\n",
       "<table border=\"1\" class=\"dataframe\">\n",
       "  <thead>\n",
       "    <tr style=\"text-align: right;\">\n",
       "      <th></th>\n",
       "      <th>Overall rank</th>\n",
       "      <th>Country or region</th>\n",
       "      <th>Score</th>\n",
       "      <th>GDP per capita</th>\n",
       "      <th>Social support</th>\n",
       "      <th>Healthy life expectancy</th>\n",
       "      <th>Freedom to make life choices</th>\n",
       "      <th>Generosity</th>\n",
       "      <th>Perceptions of corruption</th>\n",
       "    </tr>\n",
       "  </thead>\n",
       "  <tbody>\n",
       "    <tr>\n",
       "      <th>0</th>\n",
       "      <td>1</td>\n",
       "      <td>Finland</td>\n",
       "      <td>7.809</td>\n",
       "      <td>1.285</td>\n",
       "      <td>1.500</td>\n",
       "      <td>0.961</td>\n",
       "      <td>0.662</td>\n",
       "      <td>0.160</td>\n",
       "      <td>0.478</td>\n",
       "    </tr>\n",
       "    <tr>\n",
       "      <th>1</th>\n",
       "      <td>2</td>\n",
       "      <td>Denmark</td>\n",
       "      <td>7.646</td>\n",
       "      <td>1.327</td>\n",
       "      <td>1.503</td>\n",
       "      <td>0.979</td>\n",
       "      <td>0.665</td>\n",
       "      <td>0.243</td>\n",
       "      <td>0.495</td>\n",
       "    </tr>\n",
       "    <tr>\n",
       "      <th>2</th>\n",
       "      <td>3</td>\n",
       "      <td>Switzerland</td>\n",
       "      <td>7.560</td>\n",
       "      <td>1.391</td>\n",
       "      <td>1.472</td>\n",
       "      <td>1.041</td>\n",
       "      <td>0.629</td>\n",
       "      <td>0.269</td>\n",
       "      <td>0.408</td>\n",
       "    </tr>\n",
       "    <tr>\n",
       "      <th>3</th>\n",
       "      <td>4</td>\n",
       "      <td>Iceland</td>\n",
       "      <td>7.504</td>\n",
       "      <td>1.327</td>\n",
       "      <td>1.548</td>\n",
       "      <td>1.001</td>\n",
       "      <td>0.662</td>\n",
       "      <td>0.362</td>\n",
       "      <td>0.145</td>\n",
       "    </tr>\n",
       "    <tr>\n",
       "      <th>4</th>\n",
       "      <td>5</td>\n",
       "      <td>Norway</td>\n",
       "      <td>7.488</td>\n",
       "      <td>1.424</td>\n",
       "      <td>1.495</td>\n",
       "      <td>1.008</td>\n",
       "      <td>0.670</td>\n",
       "      <td>0.288</td>\n",
       "      <td>0.434</td>\n",
       "    </tr>\n",
       "  </tbody>\n",
       "</table>\n",
       "</div>"
      ],
      "text/plain": [
       "   Overall rank Country or region  Score  GDP per capita  Social support  \\\n",
       "0             1           Finland  7.809           1.285           1.500   \n",
       "1             2           Denmark  7.646           1.327           1.503   \n",
       "2             3       Switzerland  7.560           1.391           1.472   \n",
       "3             4           Iceland  7.504           1.327           1.548   \n",
       "4             5            Norway  7.488           1.424           1.495   \n",
       "\n",
       "   Healthy life expectancy  Freedom to make life choices  Generosity  \\\n",
       "0                    0.961                         0.662       0.160   \n",
       "1                    0.979                         0.665       0.243   \n",
       "2                    1.041                         0.629       0.269   \n",
       "3                    1.001                         0.662       0.362   \n",
       "4                    1.008                         0.670       0.288   \n",
       "\n",
       "   Perceptions of corruption  \n",
       "0                      0.478  \n",
       "1                      0.495  \n",
       "2                      0.408  \n",
       "3                      0.145  \n",
       "4                      0.434  "
      ]
     },
     "execution_count": 267,
     "metadata": {},
     "output_type": "execute_result"
    }
   ],
   "source": [
    "df_happiness.head()"
   ]
  },
  {
   "cell_type": "code",
   "execution_count": 268,
   "id": "9b10b148",
   "metadata": {},
   "outputs": [
    {
     "data": {
      "text/plain": [
       "Index(['Overall rank', 'Country or region', 'Score', 'GDP per capita',\n",
       "       'Social support', 'Healthy life expectancy',\n",
       "       'Freedom to make life choices', 'Generosity',\n",
       "       'Perceptions of corruption'],\n",
       "      dtype='object')"
      ]
     },
     "execution_count": 268,
     "metadata": {},
     "output_type": "execute_result"
    }
   ],
   "source": [
    "df_happiness.columns"
   ]
  },
  {
   "cell_type": "code",
   "execution_count": 269,
   "id": "4404e139",
   "metadata": {},
   "outputs": [
    {
     "data": {
      "text/plain": [
       "Overall rank                    0\n",
       "Country or region               0\n",
       "Score                           0\n",
       "GDP per capita                  0\n",
       "Social support                  0\n",
       "Healthy life expectancy         0\n",
       "Freedom to make life choices    0\n",
       "Generosity                      0\n",
       "Perceptions of corruption       0\n",
       "dtype: int64"
      ]
     },
     "execution_count": 269,
     "metadata": {},
     "output_type": "execute_result"
    }
   ],
   "source": [
    "df_happiness.isnull().sum()"
   ]
  },
  {
   "cell_type": "code",
   "execution_count": 270,
   "id": "c8bcaea0",
   "metadata": {},
   "outputs": [
    {
     "name": "stdout",
     "output_type": "stream",
     "text": [
      "<class 'pandas.core.frame.DataFrame'>\n",
      "RangeIndex: 153 entries, 0 to 152\n",
      "Data columns (total 9 columns):\n",
      " #   Column                        Non-Null Count  Dtype  \n",
      "---  ------                        --------------  -----  \n",
      " 0   Overall rank                  153 non-null    int64  \n",
      " 1   Country or region             153 non-null    object \n",
      " 2   Score                         153 non-null    float64\n",
      " 3   GDP per capita                153 non-null    float64\n",
      " 4   Social support                153 non-null    float64\n",
      " 5   Healthy life expectancy       153 non-null    float64\n",
      " 6   Freedom to make life choices  153 non-null    float64\n",
      " 7   Generosity                    153 non-null    float64\n",
      " 8   Perceptions of corruption     153 non-null    float64\n",
      "dtypes: float64(7), int64(1), object(1)\n",
      "memory usage: 10.9+ KB\n"
     ]
    }
   ],
   "source": [
    "df_happiness.info()"
   ]
  },
  {
   "cell_type": "code",
   "execution_count": 271,
   "id": "9c2ba429",
   "metadata": {},
   "outputs": [
    {
     "data": {
      "image/png": "[encoded data removed]",
      "text/plain": [
       "<Figure size 432x288 with 1 Axes>"
      ]
     },
     "metadata": {
      "needs_background": "light"
     },
     "output_type": "display_data"
    }
   ],
   "source": [
    "#Checking Outliers if exist\n",
    "#checking Outliers on Target variable\n",
    "sns.boxplot(data = df_happiness, x = 'Score')\n",
    "plt.show()"
   ]
  },
  {
   "cell_type": "markdown",
   "id": "427e9fc9",
   "metadata": {},
   "source": [
    "# Label Encoding"
   ]
  },
  {
   "cell_type": "code",
   "execution_count": 272,
   "id": "144133a3",
   "metadata": {},
   "outputs": [
    {
     "data": {
      "text/html": [
       "<div>\n",
       "<style scoped>\n",
       "    .dataframe tbody tr th:only-of-type {\n",
       "        vertical-align: middle;\n",
       "    }\n",
       "\n",
       "    .dataframe tbody tr th {\n",
       "        vertical-align: top;\n",
       "    }\n",
       "\n",
       "    .dataframe thead th {\n",
       "        text-align: right;\n",
       "    }\n",
       "</style>\n",
       "<table border=\"1\" class=\"dataframe\">\n",
       "  <thead>\n",
       "    <tr style=\"text-align: right;\">\n",
       "      <th></th>\n",
       "      <th>Overall rank</th>\n",
       "      <th>Country or region</th>\n",
       "      <th>Score</th>\n",
       "      <th>GDP per capita</th>\n",
       "      <th>Social support</th>\n",
       "      <th>Healthy life expectancy</th>\n",
       "      <th>Freedom to make life choices</th>\n",
       "      <th>Generosity</th>\n",
       "      <th>Perceptions of corruption</th>\n",
       "    </tr>\n",
       "  </thead>\n",
       "  <tbody>\n",
       "    <tr>\n",
       "      <th>0</th>\n",
       "      <td>1</td>\n",
       "      <td>42</td>\n",
       "      <td>7.809</td>\n",
       "      <td>1.285</td>\n",
       "      <td>1.500</td>\n",
       "      <td>0.961</td>\n",
       "      <td>0.662</td>\n",
       "      <td>0.160</td>\n",
       "      <td>0.478</td>\n",
       "    </tr>\n",
       "    <tr>\n",
       "      <th>1</th>\n",
       "      <td>2</td>\n",
       "      <td>35</td>\n",
       "      <td>7.646</td>\n",
       "      <td>1.327</td>\n",
       "      <td>1.503</td>\n",
       "      <td>0.979</td>\n",
       "      <td>0.665</td>\n",
       "      <td>0.243</td>\n",
       "      <td>0.495</td>\n",
       "    </tr>\n",
       "    <tr>\n",
       "      <th>2</th>\n",
       "      <td>3</td>\n",
       "      <td>131</td>\n",
       "      <td>7.560</td>\n",
       "      <td>1.391</td>\n",
       "      <td>1.472</td>\n",
       "      <td>1.041</td>\n",
       "      <td>0.629</td>\n",
       "      <td>0.269</td>\n",
       "      <td>0.408</td>\n",
       "    </tr>\n",
       "    <tr>\n",
       "      <th>3</th>\n",
       "      <td>4</td>\n",
       "      <td>56</td>\n",
       "      <td>7.504</td>\n",
       "      <td>1.327</td>\n",
       "      <td>1.548</td>\n",
       "      <td>1.001</td>\n",
       "      <td>0.662</td>\n",
       "      <td>0.362</td>\n",
       "      <td>0.145</td>\n",
       "    </tr>\n",
       "    <tr>\n",
       "      <th>4</th>\n",
       "      <td>5</td>\n",
       "      <td>105</td>\n",
       "      <td>7.488</td>\n",
       "      <td>1.424</td>\n",
       "      <td>1.495</td>\n",
       "      <td>1.008</td>\n",
       "      <td>0.670</td>\n",
       "      <td>0.288</td>\n",
       "      <td>0.434</td>\n",
       "    </tr>\n",
       "  </tbody>\n",
       "</table>\n",
       "</div>"
      ],
      "text/plain": [
       "   Overall rank  Country or region  Score  GDP per capita  Social support  \\\n",
       "0             1                 42  7.809           1.285           1.500   \n",
       "1             2                 35  7.646           1.327           1.503   \n",
       "2             3                131  7.560           1.391           1.472   \n",
       "3             4                 56  7.504           1.327           1.548   \n",
       "4             5                105  7.488           1.424           1.495   \n",
       "\n",
       "   Healthy life expectancy  Freedom to make life choices  Generosity  \\\n",
       "0                    0.961                         0.662       0.160   \n",
       "1                    0.979                         0.665       0.243   \n",
       "2                    1.041                         0.629       0.269   \n",
       "3                    1.001                         0.662       0.362   \n",
       "4                    1.008                         0.670       0.288   \n",
       "\n",
       "   Perceptions of corruption  \n",
       "0                      0.478  \n",
       "1                      0.495  \n",
       "2                      0.408  \n",
       "3                      0.145  \n",
       "4                      0.434  "
      ]
     },
     "execution_count": 272,
     "metadata": {},
     "output_type": "execute_result"
    }
   ],
   "source": [
    "from sklearn.preprocessing import LabelEncoder\n",
    "lb = LabelEncoder()\n",
    "df_happiness['Country or region'] = lb.fit_transform(df_happiness['Country or region'])\n",
    "df_happiness.head()"
   ]
  },
  {
   "cell_type": "code",
   "execution_count": 273,
   "id": "e56e2f09",
   "metadata": {},
   "outputs": [
    {
     "data": {
      "text/html": [
       "<div>\n",
       "<style scoped>\n",
       "    .dataframe tbody tr th:only-of-type {\n",
       "        vertical-align: middle;\n",
       "    }\n",
       "\n",
       "    .dataframe tbody tr th {\n",
       "        vertical-align: top;\n",
       "    }\n",
       "\n",
       "    .dataframe thead th {\n",
       "        text-align: right;\n",
       "    }\n",
       "</style>\n",
       "<table border=\"1\" class=\"dataframe\">\n",
       "  <thead>\n",
       "    <tr style=\"text-align: right;\">\n",
       "      <th></th>\n",
       "      <th>Overall rank</th>\n",
       "      <th>Country or region</th>\n",
       "      <th>GDP per capita</th>\n",
       "      <th>Social support</th>\n",
       "      <th>Healthy life expectancy</th>\n",
       "      <th>Freedom to make life choices</th>\n",
       "      <th>Generosity</th>\n",
       "      <th>Perceptions of corruption</th>\n",
       "    </tr>\n",
       "  </thead>\n",
       "  <tbody>\n",
       "    <tr>\n",
       "      <th>0</th>\n",
       "      <td>1</td>\n",
       "      <td>42</td>\n",
       "      <td>1.285</td>\n",
       "      <td>1.500</td>\n",
       "      <td>0.961</td>\n",
       "      <td>0.662</td>\n",
       "      <td>0.160</td>\n",
       "      <td>0.478</td>\n",
       "    </tr>\n",
       "    <tr>\n",
       "      <th>1</th>\n",
       "      <td>2</td>\n",
       "      <td>35</td>\n",
       "      <td>1.327</td>\n",
       "      <td>1.503</td>\n",
       "      <td>0.979</td>\n",
       "      <td>0.665</td>\n",
       "      <td>0.243</td>\n",
       "      <td>0.495</td>\n",
       "    </tr>\n",
       "    <tr>\n",
       "      <th>2</th>\n",
       "      <td>3</td>\n",
       "      <td>131</td>\n",
       "      <td>1.391</td>\n",
       "      <td>1.472</td>\n",
       "      <td>1.041</td>\n",
       "      <td>0.629</td>\n",
       "      <td>0.269</td>\n",
       "      <td>0.408</td>\n",
       "    </tr>\n",
       "    <tr>\n",
       "      <th>3</th>\n",
       "      <td>4</td>\n",
       "      <td>56</td>\n",
       "      <td>1.327</td>\n",
       "      <td>1.548</td>\n",
       "      <td>1.001</td>\n",
       "      <td>0.662</td>\n",
       "      <td>0.362</td>\n",
       "      <td>0.145</td>\n",
       "    </tr>\n",
       "    <tr>\n",
       "      <th>4</th>\n",
       "      <td>5</td>\n",
       "      <td>105</td>\n",
       "      <td>1.424</td>\n",
       "      <td>1.495</td>\n",
       "      <td>1.008</td>\n",
       "      <td>0.670</td>\n",
       "      <td>0.288</td>\n",
       "      <td>0.434</td>\n",
       "    </tr>\n",
       "    <tr>\n",
       "      <th>...</th>\n",
       "      <td>...</td>\n",
       "      <td>...</td>\n",
       "      <td>...</td>\n",
       "      <td>...</td>\n",
       "      <td>...</td>\n",
       "      <td>...</td>\n",
       "      <td>...</td>\n",
       "      <td>...</td>\n",
       "    </tr>\n",
       "    <tr>\n",
       "      <th>148</th>\n",
       "      <td>149</td>\n",
       "      <td>23</td>\n",
       "      <td>0.041</td>\n",
       "      <td>0.000</td>\n",
       "      <td>0.000</td>\n",
       "      <td>0.293</td>\n",
       "      <td>0.254</td>\n",
       "      <td>0.028</td>\n",
       "    </tr>\n",
       "    <tr>\n",
       "      <th>149</th>\n",
       "      <td>150</td>\n",
       "      <td>116</td>\n",
       "      <td>0.343</td>\n",
       "      <td>0.523</td>\n",
       "      <td>0.572</td>\n",
       "      <td>0.604</td>\n",
       "      <td>0.236</td>\n",
       "      <td>0.486</td>\n",
       "    </tr>\n",
       "    <tr>\n",
       "      <th>150</th>\n",
       "      <td>151</td>\n",
       "      <td>152</td>\n",
       "      <td>0.426</td>\n",
       "      <td>1.048</td>\n",
       "      <td>0.375</td>\n",
       "      <td>0.377</td>\n",
       "      <td>0.151</td>\n",
       "      <td>0.081</td>\n",
       "    </tr>\n",
       "    <tr>\n",
       "      <th>151</th>\n",
       "      <td>152</td>\n",
       "      <td>126</td>\n",
       "      <td>0.289</td>\n",
       "      <td>0.553</td>\n",
       "      <td>0.209</td>\n",
       "      <td>0.066</td>\n",
       "      <td>0.210</td>\n",
       "      <td>0.111</td>\n",
       "    </tr>\n",
       "    <tr>\n",
       "      <th>152</th>\n",
       "      <td>153</td>\n",
       "      <td>0</td>\n",
       "      <td>0.301</td>\n",
       "      <td>0.356</td>\n",
       "      <td>0.266</td>\n",
       "      <td>0.000</td>\n",
       "      <td>0.135</td>\n",
       "      <td>0.001</td>\n",
       "    </tr>\n",
       "  </tbody>\n",
       "</table>\n",
       "<p>153 rows × 8 columns</p>\n",
       "</div>"
      ],
      "text/plain": [
       "     Overall rank  Country or region  GDP per capita  Social support  \\\n",
       "0               1                 42           1.285           1.500   \n",
       "1               2                 35           1.327           1.503   \n",
       "2               3                131           1.391           1.472   \n",
       "3               4                 56           1.327           1.548   \n",
       "4               5                105           1.424           1.495   \n",
       "..            ...                ...             ...             ...   \n",
       "148           149                 23           0.041           0.000   \n",
       "149           150                116           0.343           0.523   \n",
       "150           151                152           0.426           1.048   \n",
       "151           152                126           0.289           0.553   \n",
       "152           153                  0           0.301           0.356   \n",
       "\n",
       "     Healthy life expectancy  Freedom to make life choices  Generosity  \\\n",
       "0                      0.961                         0.662       0.160   \n",
       "1                      0.979                         0.665       0.243   \n",
       "2                      1.041                         0.629       0.269   \n",
       "3                      1.001                         0.662       0.362   \n",
       "4                      1.008                         0.670       0.288   \n",
       "..                       ...                           ...         ...   \n",
       "148                    0.000                         0.293       0.254   \n",
       "149                    0.572                         0.604       0.236   \n",
       "150                    0.375                         0.377       0.151   \n",
       "151                    0.209                         0.066       0.210   \n",
       "152                    0.266                         0.000       0.135   \n",
       "\n",
       "     Perceptions of corruption  \n",
       "0                        0.478  \n",
       "1                        0.495  \n",
       "2                        0.408  \n",
       "3                        0.145  \n",
       "4                        0.434  \n",
       "..                         ...  \n",
       "148                      0.028  \n",
       "149                      0.486  \n",
       "150                      0.081  \n",
       "151                      0.111  \n",
       "152                      0.001  \n",
       "\n",
       "[153 rows x 8 columns]"
      ]
     },
     "execution_count": 273,
     "metadata": {},
     "output_type": "execute_result"
    }
   ],
   "source": [
    "#Split the dataset into Dependent & Independent Variables\n",
    "X = df_happiness.drop('Score',axis=1)\n",
    "X"
   ]
  },
  {
   "cell_type": "code",
   "execution_count": 274,
   "id": "05007d7f",
   "metadata": {},
   "outputs": [
    {
     "data": {
      "text/plain": [
       "0      7.809\n",
       "1      7.646\n",
       "2      7.560\n",
       "3      7.504\n",
       "4      7.488\n",
       "       ...  \n",
       "148    3.476\n",
       "149    3.312\n",
       "150    3.299\n",
       "151    2.817\n",
       "152    2.567\n",
       "Name: Score, Length: 153, dtype: float64"
      ]
     },
     "execution_count": 274,
     "metadata": {},
     "output_type": "execute_result"
    }
   ],
   "source": [
    "y = df_happiness['Score']\n",
    "y"
   ]
  },
  {
   "cell_type": "code",
   "execution_count": 275,
   "id": "8e153ce6",
   "metadata": {},
   "outputs": [
    {
     "data": {
      "image/png": "[encoded data removed]",
      "text/plain": [
       "<Figure size 720x864 with 2 Axes>"
      ]
     },
     "metadata": {
      "needs_background": "light"
     },
     "output_type": "display_data"
    }
   ],
   "source": [
    "plt.figure(figsize=(10,12))\n",
    "sns.heatmap(df_happiness.corr(), annot=True)\n",
    "plt.show()"
   ]
  },
  {
   "cell_type": "code",
   "execution_count": 276,
   "id": "04799123",
   "metadata": {},
   "outputs": [
    {
     "data": {
      "text/plain": [
       "Text(0.5, 1.0, 'Score  - Healthy life expectancy')"
      ]
     },
     "execution_count": 276,
     "metadata": {},
     "output_type": "execute_result"
    },
    {
     "data": {
      "image/png": "[encoded data removed]",
      "text/plain": [
       "<Figure size 1080x504 with 3 Axes>"
      ]
     },
     "metadata": {
      "needs_background": "light"
     },
     "output_type": "display_data"
    }
   ],
   "source": [
    "#Effect of GDP per capita,Socialsupport,Healthy life expectancy,freedom to make life choices\n",
    "#and Generosity  on Happiness Score\n",
    "plt.figure(figsize=(15,7))\n",
    "plt.subplot(1, 3, 1)\n",
    "plt.scatter(df_happiness[\"GDP per capita\"],df_happiness[\"Score\"])\n",
    "plt.xlabel(\"GDP per capita\",fontsize=15)\n",
    "plt.ylabel(\"Score\",fontsize=15)\n",
    "plt.title(\"Score - GDP per capita\",fontsize=17)\n",
    "\n",
    "plt.subplot(1, 3, 2)\n",
    "plt.scatter(df_happiness[\"Social support\"], df_happiness[\"Score\"])\n",
    "plt.xlabel(\"Social support\",fontsize=15)\n",
    "plt.ylabel(\"Score \",fontsize=15)\n",
    "plt.title(\"Score  - Social support\",fontsize=17)\n",
    "\n",
    "plt.subplot(1, 3, 3)\n",
    "plt.scatter(df_happiness[\"Healthy life expectancy\"], df_happiness[\"Score\"])\n",
    "plt.xlabel(\"Healthy life expectancy\",fontsize=15)\n",
    "plt.ylabel(\"Score \",fontsize=15)\n",
    "plt.title(\"Score  - Healthy life expectancy\",fontsize=17)\n",
    "\n"
   ]
  },
  {
   "cell_type": "code",
   "execution_count": 277,
   "id": "bd1da443",
   "metadata": {},
   "outputs": [
    {
     "data": {
      "text/plain": [
       "Text(0.5, 1.0, 'Score - Generosity')"
      ]
     },
     "execution_count": 277,
     "metadata": {},
     "output_type": "execute_result"
    },
    {
     "data": {
      "image/png": "[encoded data removed]",
      "text/plain": [
       "<Figure size 864x504 with 2 Axes>"
      ]
     },
     "metadata": {
      "needs_background": "light"
     },
     "output_type": "display_data"
    }
   ],
   "source": [
    "plt.figure(figsize=(12,7))\n",
    "plt.subplot(1, 2, 1)\n",
    "plt.scatter(df_happiness[\"Freedom to make life choices\"],df_happiness[\"Score\"])\n",
    "plt.xlabel(\"Freedom to make life choices\",fontsize=15)\n",
    "plt.ylabel(\"Score\",fontsize=15)\n",
    "plt.title(\"Score - Freedom to make life choices\",fontsize=17)\n",
    "\n",
    "\n",
    "plt.subplot(1, 2, 2)\n",
    "plt.scatter(df_happiness[\"Generosity\"],df_happiness[\"Score\"])\n",
    "plt.xlabel(\"Generosity\",fontsize=15)\n",
    "plt.ylabel(\"Score\",fontsize=15)\n",
    "plt.title(\"Score - Generosity\",fontsize=17)"
   ]
  },
  {
   "cell_type": "markdown",
   "id": "47a2c346",
   "metadata": {},
   "source": [
    "# Standard Scaler"
   ]
  },
  {
   "cell_type": "code",
   "execution_count": 278,
   "id": "3721adfa",
   "metadata": {},
   "outputs": [
    {
     "data": {
      "text/html": [
       "<div>\n",
       "<style scoped>\n",
       "    .dataframe tbody tr th:only-of-type {\n",
       "        vertical-align: middle;\n",
       "    }\n",
       "\n",
       "    .dataframe tbody tr th {\n",
       "        vertical-align: top;\n",
       "    }\n",
       "\n",
       "    .dataframe thead th {\n",
       "        text-align: right;\n",
       "    }\n",
       "</style>\n",
       "<table border=\"1\" class=\"dataframe\">\n",
       "  <thead>\n",
       "    <tr style=\"text-align: right;\">\n",
       "      <th></th>\n",
       "      <th>0</th>\n",
       "      <th>1</th>\n",
       "      <th>2</th>\n",
       "      <th>3</th>\n",
       "      <th>4</th>\n",
       "      <th>5</th>\n",
       "      <th>6</th>\n",
       "      <th>7</th>\n",
       "    </tr>\n",
       "  </thead>\n",
       "  <tbody>\n",
       "    <tr>\n",
       "      <th>0</th>\n",
       "      <td>-1.720767</td>\n",
       "      <td>-0.769817</td>\n",
       "      <td>1.121293</td>\n",
       "      <td>1.204652</td>\n",
       "      <td>1.058584</td>\n",
       "      <td>1.410735</td>\n",
       "      <td>-0.293355</td>\n",
       "      <td>3.081010</td>\n",
       "    </tr>\n",
       "    <tr>\n",
       "      <th>1</th>\n",
       "      <td>-1.698125</td>\n",
       "      <td>-0.928308</td>\n",
       "      <td>1.234440</td>\n",
       "      <td>1.215144</td>\n",
       "      <td>1.129652</td>\n",
       "      <td>1.432061</td>\n",
       "      <td>0.535783</td>\n",
       "      <td>3.231831</td>\n",
       "    </tr>\n",
       "    <tr>\n",
       "      <th>2</th>\n",
       "      <td>-1.675484</td>\n",
       "      <td>1.245292</td>\n",
       "      <td>1.406854</td>\n",
       "      <td>1.106723</td>\n",
       "      <td>1.374440</td>\n",
       "      <td>1.176155</td>\n",
       "      <td>0.795513</td>\n",
       "      <td>2.459983</td>\n",
       "    </tr>\n",
       "    <tr>\n",
       "      <th>3</th>\n",
       "      <td>-1.652842</td>\n",
       "      <td>-0.452833</td>\n",
       "      <td>1.234440</td>\n",
       "      <td>1.372529</td>\n",
       "      <td>1.216512</td>\n",
       "      <td>1.410735</td>\n",
       "      <td>1.724548</td>\n",
       "      <td>0.126699</td>\n",
       "    </tr>\n",
       "    <tr>\n",
       "      <th>4</th>\n",
       "      <td>-1.630200</td>\n",
       "      <td>0.656608</td>\n",
       "      <td>1.495756</td>\n",
       "      <td>1.187165</td>\n",
       "      <td>1.244150</td>\n",
       "      <td>1.467603</td>\n",
       "      <td>0.985316</td>\n",
       "      <td>2.690650</td>\n",
       "    </tr>\n",
       "  </tbody>\n",
       "</table>\n",
       "</div>"
      ],
      "text/plain": [
       "          0         1         2         3         4         5         6  \\\n",
       "0 -1.720767 -0.769817  1.121293  1.204652  1.058584  1.410735 -0.293355   \n",
       "1 -1.698125 -0.928308  1.234440  1.215144  1.129652  1.432061  0.535783   \n",
       "2 -1.675484  1.245292  1.406854  1.106723  1.374440  1.176155  0.795513   \n",
       "3 -1.652842 -0.452833  1.234440  1.372529  1.216512  1.410735  1.724548   \n",
       "4 -1.630200  0.656608  1.495756  1.187165  1.244150  1.467603  0.985316   \n",
       "\n",
       "          7  \n",
       "0  3.081010  \n",
       "1  3.231831  \n",
       "2  2.459983  \n",
       "3  0.126699  \n",
       "4  2.690650  "
      ]
     },
     "execution_count": 278,
     "metadata": {},
     "output_type": "execute_result"
    }
   ],
   "source": [
    "from sklearn.preprocessing import StandardScaler\n",
    "sc = StandardScaler()\n",
    "sc.fit_transform(X)\n",
    "data_feat = pd.DataFrame(sc.fit_transform(X))\n",
    "data_feat.head()"
   ]
  },
  {
   "cell_type": "markdown",
   "id": "f03d038c",
   "metadata": {},
   "source": [
    "# Splitting train & test Dataset"
   ]
  },
  {
   "cell_type": "code",
   "execution_count": 279,
   "id": "4a48dac8",
   "metadata": {},
   "outputs": [],
   "source": [
    "#Split data into train & test\n",
    "from sklearn.model_selection import train_test_split\n",
    "X_train,X_test,y_train,y_test = train_test_split(sc.fit_transform(X),y,test_size=0.2,random_state=1)"
   ]
  },
  {
   "cell_type": "code",
   "execution_count": 280,
   "id": "e6f3807d",
   "metadata": {},
   "outputs": [
    {
     "data": {
      "text/plain": [
       "122"
      ]
     },
     "execution_count": 280,
     "metadata": {},
     "output_type": "execute_result"
    }
   ],
   "source": [
    "len(X_train)"
   ]
  },
  {
   "cell_type": "code",
   "execution_count": 281,
   "id": "c95827af",
   "metadata": {},
   "outputs": [
    {
     "data": {
      "text/plain": [
       "31"
      ]
     },
     "execution_count": 281,
     "metadata": {},
     "output_type": "execute_result"
    }
   ],
   "source": [
    "len(X_test)"
   ]
  },
  {
   "cell_type": "code",
   "execution_count": 282,
   "id": "0688cbf9",
   "metadata": {},
   "outputs": [
    {
     "data": {
      "text/plain": [
       "122"
      ]
     },
     "execution_count": 282,
     "metadata": {},
     "output_type": "execute_result"
    }
   ],
   "source": [
    "len(y_train)"
   ]
  },
  {
   "cell_type": "code",
   "execution_count": 283,
   "id": "88c0f0db",
   "metadata": {},
   "outputs": [
    {
     "data": {
      "text/plain": [
       "31"
      ]
     },
     "execution_count": 283,
     "metadata": {},
     "output_type": "execute_result"
    }
   ],
   "source": [
    "len(y_test)"
   ]
  },
  {
   "cell_type": "code",
   "execution_count": 285,
   "id": "12956630",
   "metadata": {},
   "outputs": [
    {
     "data": {
      "text/plain": [
       "LinearRegression()"
      ]
     },
     "execution_count": 285,
     "metadata": {},
     "output_type": "execute_result"
    }
   ],
   "source": [
    "#training  and fitting the model\n",
    "from sklearn.linear_model import LinearRegression\n",
    "from sklearn.metrics import mean_squared_error, r2_score\n",
    "\n",
    "lr = LinearRegression()\n",
    "lr.fit(X_train,y_train)"
   ]
  },
  {
   "cell_type": "code",
   "execution_count": 286,
   "id": "1fdc72e7",
   "metadata": {},
   "outputs": [
    {
     "name": "stdout",
     "output_type": "stream",
     "text": [
      "Bias =  0.9751499110627272\n"
     ]
    }
   ],
   "source": [
    "y_pred = lr.predict(X_train)\n",
    "print(\"Bias = \", r2_score(y_train, y_pred))"
   ]
  },
  {
   "cell_type": "code",
   "execution_count": 287,
   "id": "16fe9179",
   "metadata": {},
   "outputs": [
    {
     "name": "stdout",
     "output_type": "stream",
     "text": [
      "Variance =  0.9742911166071215\n"
     ]
    }
   ],
   "source": [
    "y_pred = lr.predict(X_test)\n",
    "print(\"Variance = \", r2_score(y_test, y_pred))"
   ]
  },
  {
   "cell_type": "code",
   "execution_count": 291,
   "id": "4e7c89bc",
   "metadata": {},
   "outputs": [],
   "source": [
    "from sklearn.preprocessing import PolynomialFeatures\n",
    "X = df_happiness.drop(['Score'],axis=1)\n",
    "y = df_happiness['Score']\n",
    "pf = PolynomialFeatures()\n",
    "X_degree_2 = pf.fit_transform(X)"
   ]
  },
  {
   "cell_type": "code",
   "execution_count": 292,
   "id": "092f2287",
   "metadata": {},
   "outputs": [
    {
     "name": "stdout",
     "output_type": "stream",
     "text": [
      "0.9468584792865722\n"
     ]
    }
   ],
   "source": [
    "X_train, X_test, y_train, y_test = train_test_split(X_degree_2, y, \n",
    "                                                    test_size=0.2)\n",
    "lr = LinearRegression()\n",
    "lr.fit(X_train, y_train)\n",
    "y_pred = lr.predict(X_test)\n",
    "print(lr.score(X_test, y_test))"
   ]
  },
  {
   "cell_type": "code",
   "execution_count": 294,
   "id": "b56a8f0b",
   "metadata": {},
   "outputs": [
    {
     "name": "stdout",
     "output_type": "stream",
     "text": [
      "R2 =  0.9889607076799004\n"
     ]
    }
   ],
   "source": [
    "from sklearn.tree import DecisionTreeRegressor\n",
    "dt = DecisionTreeRegressor()\n",
    "dt.fit(X_train, y_train)\n",
    "y_pred = dt.predict(X_test)\n",
    "print(\"R2 = \", r2_score(y_test, y_pred))"
   ]
  },
  {
   "cell_type": "code",
   "execution_count": null,
   "id": "553e2326",
   "metadata": {},
   "outputs": [],
   "source": []
  }
 ],
 "metadata": {
  "kernelspec": {
   "display_name": "Python 3",
   "language": "python",
   "name": "python3"
  },
  "language_info": {
   "codemirror_mode": {
    "name": "ipython",
    "version": 3
   },
   "file_extension": ".py",
   "mimetype": "text/x-python",
   "name": "python",
   "nbconvert_exporter": "python",
   "pygments_lexer": "ipython3",
   "version": "3.8.8"
  }
 },
 "nbformat": 4,
 "nbformat_minor": 5
}
